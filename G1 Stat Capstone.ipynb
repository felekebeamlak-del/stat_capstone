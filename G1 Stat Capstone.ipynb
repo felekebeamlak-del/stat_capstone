{
 "cells": [
  {
   "cell_type": "code",
   "execution_count": 27,
   "id": "ae2fbf3c",
   "metadata": {},
   "outputs": [],
   "source": [
    "# G1 Capstone Project_Stat"
   ]
  },
  {
   "cell_type": "code",
   "execution_count": 28,
   "id": "37c8abc3",
   "metadata": {},
   "outputs": [],
   "source": [
    "import pandas as pd\n",
    "import numpy as np\n",
    "import matplotlib.pyplot as plt\n",
    "import seaborn as sns"
   ]
  },
  {
   "cell_type": "code",
   "execution_count": 29,
   "id": "fbcef2d3",
   "metadata": {},
   "outputs": [
    {
     "name": "stdout",
     "output_type": "stream",
     "text": [
      "   InvoiceNo CustomerID      Date ProductCategory  Quantity  UnitPrice  \\\n",
      "0  INV105646   CUST1810  1/1/2023            Home         7      67.88   \n",
      "1  INV105099   CUST1530  1/1/2023            Toys         6      24.22   \n",
      "2  INV102818   CUST1701  1/1/2023     Electronics         6     158.78   \n",
      "3  INV107351   CUST1323  1/1/2023     Electronics         5     102.23   \n",
      "4  INV108415   CUST1406  1/1/2023     Electronics         8      62.32   \n",
      "\n",
      "   DiscountApplied  ReviewRating  IsFirstPurchase MarketingChannel  ...  \\\n",
      "0             44.6           4.0                0          Organic  ...   \n",
      "1              0.0           2.0                1           Social  ...   \n",
      "2             25.9           5.0                1            Email  ...   \n",
      "3             39.0           3.0                1           Social  ...   \n",
      "4             26.7           4.0                0            Email  ...   \n",
      "\n",
      "  ItemsInCart  PreviousSpending  BrowsingSessions  TotalAmount  Unnamed: 17  \\\n",
      "0           7            186.55                 3       270.08          NaN   \n",
      "1           8              0.00                 3       155.16          NaN   \n",
      "2           6              0.00                 3       719.29          NaN   \n",
      "3           6              0.00                 5       324.19          NaN   \n",
      "4           8            371.94                 4       387.06          NaN   \n",
      "\n",
      "   Unnamed: 18  Unnamed: 19  Unnamed: 20  Unnamed: 21  Unnamed: 22  \n",
      "0    218.92136          NaN       475.16    211.92136       270.08  \n",
      "1      8.00000          NaN       145.32      0.00000       155.16  \n",
      "2    252.74412          NaN       952.68    246.74412       719.29  \n",
      "3    205.34850          NaN       511.15    199.34850       324.19  \n",
      "4    141.11552          NaN       498.56    133.11552       387.06  \n",
      "\n",
      "[5 rows x 23 columns]\n"
     ]
    }
   ],
   "source": [
    "retail_df = pd.read_csv('D:\\Data Science bootcamp\\Git\\stat_capstone\\synthetic_retail_data.csv')\n",
    "print(retail_df.head())"
   ]
  },
  {
   "cell_type": "code",
   "execution_count": 30,
   "id": "649e1e37",
   "metadata": {},
   "outputs": [
    {
     "name": "stdout",
     "output_type": "stream",
     "text": [
      "<class 'pandas.core.frame.DataFrame'>\n",
      "RangeIndex: 9500 entries, 0 to 9499\n",
      "Data columns (total 23 columns):\n",
      " #   Column            Non-Null Count  Dtype  \n",
      "---  ------            --------------  -----  \n",
      " 0   InvoiceNo         9500 non-null   object \n",
      " 1   CustomerID        9500 non-null   object \n",
      " 2   Date              9500 non-null   object \n",
      " 3   ProductCategory   9500 non-null   object \n",
      " 4   Quantity          9500 non-null   int64  \n",
      " 5   UnitPrice         9500 non-null   float64\n",
      " 6   DiscountApplied   9500 non-null   float64\n",
      " 7   ReviewRating      7835 non-null   float64\n",
      " 8   IsFirstPurchase   9500 non-null   int64  \n",
      " 9   MarketingChannel  9028 non-null   object \n",
      " 10  Country           9500 non-null   object \n",
      " 11  TimeOnSite        9025 non-null   float64\n",
      " 12  ShippingCost      9500 non-null   float64\n",
      " 13  ItemsInCart       9500 non-null   int64  \n",
      " 14  PreviousSpending  9500 non-null   float64\n",
      " 15  BrowsingSessions  9500 non-null   int64  \n",
      " 16  TotalAmount       9500 non-null   float64\n",
      " 17  Unnamed: 17       0 non-null      float64\n",
      " 18  Unnamed: 18       1229 non-null   float64\n",
      " 19  Unnamed: 19       0 non-null      float64\n",
      " 20  Unnamed: 20       1229 non-null   float64\n",
      " 21  Unnamed: 21       1229 non-null   float64\n",
      " 22  Unnamed: 22       1229 non-null   float64\n",
      "dtypes: float64(13), int64(4), object(6)\n",
      "memory usage: 1.7+ MB\n",
      "None\n",
      "                   count        mean          std    min       25%        50%  \\\n",
      "Quantity          9500.0    9.166105     5.267773   1.00    6.0000    9.00000   \n",
      "UnitPrice         9500.0   58.459586    42.140771  10.06   31.3500   43.67500   \n",
      "DiscountApplied   9500.0   18.181400    18.531475   0.00    0.0000   13.60000   \n",
      "ReviewRating      7835.0    3.481302     1.062269   1.00    3.0000    4.00000   \n",
      "IsFirstPurchase   9500.0    0.302842     0.459512   0.00    0.0000    0.00000   \n",
      "TimeOnSite        9025.0  299.567878   118.555281  30.00  218.9000  296.80000   \n",
      "ShippingCost      9500.0   10.041306     4.875580   0.00    6.6300    9.96000   \n",
      "ItemsInCart       9500.0    9.671474     3.528830   1.00    7.0000    9.00000   \n",
      "PreviousSpending  9500.0  209.090296   161.318720   0.00    0.0000  241.93000   \n",
      "BrowsingSessions  9500.0    3.064737     1.440587   1.00    2.0000    3.00000   \n",
      "TotalAmount       9500.0  484.463016   940.646765  20.26  199.9175  309.13500   \n",
      "Unnamed: 17          0.0         NaN          NaN    NaN       NaN        NaN   \n",
      "Unnamed: 18       1229.0  118.408726   324.272927   1.00    9.0000   39.83435   \n",
      "Unnamed: 19          0.0         NaN          NaN    NaN       NaN        NaN   \n",
      "Unnamed: 20       1229.0  514.096843  1025.410356  17.29  201.3600  322.84000   \n",
      "Unnamed: 21       1229.0  109.913201   323.909985   0.00    0.0000   32.54940   \n",
      "Unnamed: 22       1229.0  414.071367   851.946687  20.26  170.3800  272.66000   \n",
      "\n",
      "                        75%         max  \n",
      "Quantity           11.00000     80.0000  \n",
      "UnitPrice          73.66000    672.4000  \n",
      "DiscountApplied    34.80000     55.0000  \n",
      "ReviewRating        4.00000      5.0000  \n",
      "IsFirstPurchase     1.00000      1.0000  \n",
      "TimeOnSite        379.80000    739.1000  \n",
      "ShippingCost       13.31250     29.3000  \n",
      "ItemsInCart        12.00000     25.0000  \n",
      "PreviousSpending  336.72250    632.0200  \n",
      "BrowsingSessions    4.00000      8.0000  \n",
      "TotalAmount       518.38500  34231.0400  \n",
      "Unnamed: 17             NaN         NaN  \n",
      "Unnamed: 18       143.59062   8560.1224  \n",
      "Unnamed: 19             NaN         NaN  \n",
      "Unnamed: 20       543.72000  18916.2000  \n",
      "Unnamed: 21       135.54695   8550.1224  \n",
      "Unnamed: 22       430.98000  17907.4200  \n",
      "InvoiceNo              0\n",
      "CustomerID             0\n",
      "Date                   0\n",
      "ProductCategory        0\n",
      "Quantity               0\n",
      "UnitPrice              0\n",
      "DiscountApplied        0\n",
      "ReviewRating        1665\n",
      "IsFirstPurchase        0\n",
      "MarketingChannel     472\n",
      "Country                0\n",
      "TimeOnSite           475\n",
      "ShippingCost           0\n",
      "ItemsInCart            0\n",
      "PreviousSpending       0\n",
      "BrowsingSessions       0\n",
      "TotalAmount            0\n",
      "Unnamed: 17         9500\n",
      "Unnamed: 18         8271\n",
      "Unnamed: 19         9500\n",
      "Unnamed: 20         8271\n",
      "Unnamed: 21         8271\n",
      "Unnamed: 22         8271\n",
      "dtype: int64\n",
      "0\n"
     ]
    }
   ],
   "source": [
    "print(retail_df.info())\n",
    "print(retail_df.describe().T)\n",
    "print(retail_df.isnull().sum())\n",
    "print(retail_df.duplicated().sum())\n"
   ]
  },
  {
   "cell_type": "markdown",
   "id": "1fb86c9a",
   "metadata": {},
   "source": [
    "Project Overview\n",
    "This capstone project serves as the culmination of your learning journey in Statistics for Data Analytics. You will apply the complete range of statistical and analytical techniques covered in this course to a real-world e-commerce dataset.\n",
    "\n",
    "The objective is to replicate the end-to-end workflow of a professional data analyst:\n",
    "\n",
    "Clean and prepare messy business data.\n",
    "Apply descriptive and inferential statistical techniques.\n",
    "Build predictive models using regression and time-series methods.\n",
    "Derive meaningful business insights and recommendations.\n",
    "You will complete the project using Python and submit your work via Git/GitHub. At the end, you will not only demonstrate mastery of statistical concepts but also showcase your skills in reproducible analytics and professional reporting.\n",
    "\n",
    "Dataset Description\n",
    "The dataset (please find the dataset named “synthetic_retail_data.csv” from the portal) contains approximately 9,500 e-commerce transactions recorded during 2023. Each record represents a customer purchase and includes details on products, pricing, discounts, customer demographics, marketing channels, and purchasing behavior.\n",
    "\n",
    "Key Variables\n",
    "\n",
    "InvoiceNo – Unique transaction identifier\n",
    "CustomerID – Unique customer identifier\n",
    "Date – Date of purchase (2023)\n",
    "ProductCategory – Electronics, Clothing, Home, Beauty, Sports, Toys\n",
    "Quantity – Number of items purchased\n",
    "UnitPrice – Price per item ($)\n",
    "DiscountApplied – Discount percentage (0–55%)\n",
    "ReviewRating – Customer rating (1–5 stars, some missing values)\n",
    "IsFirstPurchase – Indicator for new vs. returning customers\n",
    "MarketingChannel – Source of acquisition (Email, Organic, Referral, Ads, Social)\n",
    "Country – Customer country (USA, UK, Germany, France, Canada, Australia)\n",
    "TimeOnSite – Time spent on the website before purchase (seconds, some missing values)\n",
    "ShippingCost – Shipping fee ($)\n",
    "ItemsInCart – Items added to cart\n",
    "PreviousSpending – Historical customer spending ($)\n",
    "BrowsingSessions – Website visits prior to purchase\n",
    "TotalAmount – Final transaction value including shipping ($)\n",
    "Notable Characteristics\n",
    "\n",
    "Seasonal patterns in sales (peaks in May, July, November, and December).\n",
    "Category differences in pricing and popularity.\n",
    "Presence of missing values in ReviewRating and TimeOnSite.\n",
    "Approximately 2% of transactions contain extreme outliers in Quantity or UnitPrice.\n",
    " \n",
    "\n",
    "Project Requirements\n",
    "Data Preparation\n",
    "Import and examine the dataset.\n",
    "Identify missing values and apply appropriate treatment.\n",
    "Detect and address outliers in dataset.\n",
    "Prepare data for analysis and modeling.\n",
    "Descriptive Statistics & Exploratory Analysis\n",
    "Compute summary statistics (mean, median, mode, variance, standard deviation, IQR).\n",
    "Generate distribution plots (histograms, boxplots, scatterplots).\n",
    "Create pivot-style summaries (e.g., revenue by product category, revenue by country).\n",
    "Probability & Hypothesis Testing\n",
    "Estimate key probabilities (e.g., likelihood of 5-star review, probability of order value > $1,000).\n",
    "Conduct hypothesis tests:\n",
    "Two-Sample t-test: Compare mean spending between first-time and returning customers.\n",
    "ANOVA: Test whether average spending differs across countries.\n",
    "Chi-square test: Assess association between marketing channel and customer review ratings.\n",
    "Confidence Intervals\n",
    "Construct a 95% confidence interval for average daily revenue.\n",
    "Construct a 95% confidence interval for average customer review rating.\n",
    "Correlation & Regression Analysis\n",
    "Create a correlation matrix of numeric variables.\n",
    "Fit a multiple linear regression model to predict TotalAmount using predictors from the dataset.\n",
    "Interpret coefficients and identify the strongest drivers of revenue.\n",
    "Time Series Analysis\n",
    "Construct a time series of daily or monthly sales.\n",
    "Apply moving averages and exponential smoothing to forecast future sales.\n",
    "Identify seasonal peaks and business trends.\n",
    " \n",
    "\n",
    "Deliverables\n",
    "You are required to submit a complete project via GitHub containing by October 11, 2025:\n",
    "\n",
    "Jupyter Notebook / Python Scripts\n",
    "Clean, well-documented code.\n",
    "Logical structure aligned with project requirements.\n",
    "README.md File\n",
    "Project overview.\n",
    "Dataset description.\n",
    "Methods applied.\n",
    "Summary of findings and key business insights.\n",
    "Interpretive Commentary or Report (within the external Microsoft word document)\n",
    "Explanations of results.\n",
    "Business implications.\n",
    " \n",
    "\n",
    "Grading Rubric\n",
    "Correctness of Analysis – 16%\n",
    "Code Quality & GitHub Submission – 8%\n",
    "Interpretation of Results – 10%\n",
    "Clarity of Documentation & Presentation – 6%\n",
    " \n",
    "\n",
    "Instructor’s Note\n",
    "Upon submission, we will conduct a live session demonstrating the same analyses step-by-step in Excel. This session will allow you to cross-validate your Python results, strengthen your conceptual understanding, and focus on translating statistical findings into actionable business recommendations."
   ]
  },
  {
   "cell_type": "markdown",
   "id": "1f0018ec",
   "metadata": {},
   "source": [
    "Import and examine the dataset.\n",
    "Identify missing values and apply appropriate treatment.\n",
    "Detect and address outliers in dataset.\n",
    "Prepare data for analysis and modeling."
   ]
  },
  {
   "cell_type": "markdown",
   "id": "18fa7a5f",
   "metadata": {},
   "source": [
    "Dropping duplicates (if any)"
   ]
  },
  {
   "cell_type": "code",
   "execution_count": 31,
   "id": "448e82ec",
   "metadata": {},
   "outputs": [],
   "source": [
    "retail_df.drop_duplicates(inplace=True)"
   ]
  },
  {
   "cell_type": "code",
   "execution_count": 32,
   "id": "17ee16cf",
   "metadata": {},
   "outputs": [
    {
     "name": "stdout",
     "output_type": "stream",
     "text": [
      "                   count        mean          std    min       25%        50%  \\\n",
      "Quantity          9500.0    9.166105     5.267773   1.00    6.0000    9.00000   \n",
      "UnitPrice         9500.0   58.459586    42.140771  10.06   31.3500   43.67500   \n",
      "DiscountApplied   9500.0   18.181400    18.531475   0.00    0.0000   13.60000   \n",
      "ReviewRating      7835.0    3.481302     1.062269   1.00    3.0000    4.00000   \n",
      "IsFirstPurchase   9500.0    0.302842     0.459512   0.00    0.0000    0.00000   \n",
      "TimeOnSite        9025.0  299.567878   118.555281  30.00  218.9000  296.80000   \n",
      "ShippingCost      9500.0   10.041306     4.875580   0.00    6.6300    9.96000   \n",
      "ItemsInCart       9500.0    9.671474     3.528830   1.00    7.0000    9.00000   \n",
      "PreviousSpending  9500.0  209.090296   161.318720   0.00    0.0000  241.93000   \n",
      "BrowsingSessions  9500.0    3.064737     1.440587   1.00    2.0000    3.00000   \n",
      "TotalAmount       9500.0  484.463016   940.646765  20.26  199.9175  309.13500   \n",
      "Unnamed: 17          0.0         NaN          NaN    NaN       NaN        NaN   \n",
      "Unnamed: 18       1229.0  118.408726   324.272927   1.00    9.0000   39.83435   \n",
      "Unnamed: 19          0.0         NaN          NaN    NaN       NaN        NaN   \n",
      "Unnamed: 20       1229.0  514.096843  1025.410356  17.29  201.3600  322.84000   \n",
      "Unnamed: 21       1229.0  109.913201   323.909985   0.00    0.0000   32.54940   \n",
      "Unnamed: 22       1229.0  414.071367   851.946687  20.26  170.3800  272.66000   \n",
      "\n",
      "                        75%         max  \n",
      "Quantity           11.00000     80.0000  \n",
      "UnitPrice          73.66000    672.4000  \n",
      "DiscountApplied    34.80000     55.0000  \n",
      "ReviewRating        4.00000      5.0000  \n",
      "IsFirstPurchase     1.00000      1.0000  \n",
      "TimeOnSite        379.80000    739.1000  \n",
      "ShippingCost       13.31250     29.3000  \n",
      "ItemsInCart        12.00000     25.0000  \n",
      "PreviousSpending  336.72250    632.0200  \n",
      "BrowsingSessions    4.00000      8.0000  \n",
      "TotalAmount       518.38500  34231.0400  \n",
      "Unnamed: 17             NaN         NaN  \n",
      "Unnamed: 18       143.59062   8560.1224  \n",
      "Unnamed: 19             NaN         NaN  \n",
      "Unnamed: 20       543.72000  18916.2000  \n",
      "Unnamed: 21       135.54695   8550.1224  \n",
      "Unnamed: 22       430.98000  17907.4200  \n"
     ]
    }
   ],
   "source": [
    "print(retail_df.describe().T)"
   ]
  },
  {
   "cell_type": "code",
   "execution_count": 33,
   "id": "0244621c",
   "metadata": {},
   "outputs": [
    {
     "name": "stdout",
     "output_type": "stream",
     "text": [
      "Index(['InvoiceNo', 'CustomerID', 'Date', 'ProductCategory', 'Quantity',\n",
      "       'UnitPrice', 'DiscountApplied', 'ReviewRating', 'IsFirstPurchase',\n",
      "       'MarketingChannel', 'Country', 'TimeOnSite', 'ShippingCost',\n",
      "       'ItemsInCart', 'PreviousSpending', 'BrowsingSessions', 'TotalAmount',\n",
      "       'Unnamed: 17', 'Unnamed: 18', 'Unnamed: 19', 'Unnamed: 20',\n",
      "       'Unnamed: 21', 'Unnamed: 22'],\n",
      "      dtype='object')\n"
     ]
    }
   ],
   "source": [
    "print(retail_df.columns)"
   ]
  },
  {
   "cell_type": "code",
   "execution_count": 34,
   "id": "3bc409ef",
   "metadata": {},
   "outputs": [
    {
     "name": "stdout",
     "output_type": "stream",
     "text": [
      "<class 'pandas.core.frame.DataFrame'>\n",
      "RangeIndex: 9500 entries, 0 to 9499\n",
      "Data columns (total 23 columns):\n",
      " #   Column            Non-Null Count  Dtype  \n",
      "---  ------            --------------  -----  \n",
      " 0   InvoiceNo         9500 non-null   object \n",
      " 1   CustomerID        9500 non-null   object \n",
      " 2   Date              9500 non-null   object \n",
      " 3   ProductCategory   9500 non-null   object \n",
      " 4   Quantity          9500 non-null   int64  \n",
      " 5   UnitPrice         9500 non-null   float64\n",
      " 6   DiscountApplied   9500 non-null   float64\n",
      " 7   ReviewRating      7835 non-null   float64\n",
      " 8   IsFirstPurchase   9500 non-null   int64  \n",
      " 9   MarketingChannel  9028 non-null   object \n",
      " 10  Country           9500 non-null   object \n",
      " 11  TimeOnSite        9025 non-null   float64\n",
      " 12  ShippingCost      9500 non-null   float64\n",
      " 13  ItemsInCart       9500 non-null   int64  \n",
      " 14  PreviousSpending  9500 non-null   float64\n",
      " 15  BrowsingSessions  9500 non-null   int64  \n",
      " 16  TotalAmount       9500 non-null   float64\n",
      " 17  Unnamed: 17       0 non-null      float64\n",
      " 18  Unnamed: 18       1229 non-null   float64\n",
      " 19  Unnamed: 19       0 non-null      float64\n",
      " 20  Unnamed: 20       1229 non-null   float64\n",
      " 21  Unnamed: 21       1229 non-null   float64\n",
      " 22  Unnamed: 22       1229 non-null   float64\n",
      "dtypes: float64(13), int64(4), object(6)\n",
      "memory usage: 1.7+ MB\n",
      "None\n"
     ]
    }
   ],
   "source": [
    "print(retail_df.info())"
   ]
  },
  {
   "cell_type": "code",
   "execution_count": 35,
   "id": "72160791",
   "metadata": {},
   "outputs": [
    {
     "name": "stdout",
     "output_type": "stream",
     "text": [
      "InvoiceNo              0\n",
      "CustomerID             0\n",
      "Date                   0\n",
      "ProductCategory        0\n",
      "Quantity               0\n",
      "UnitPrice              0\n",
      "DiscountApplied        0\n",
      "ReviewRating        1665\n",
      "IsFirstPurchase        0\n",
      "MarketingChannel     472\n",
      "Country                0\n",
      "TimeOnSite           475\n",
      "ShippingCost           0\n",
      "ItemsInCart            0\n",
      "PreviousSpending       0\n",
      "BrowsingSessions       0\n",
      "TotalAmount            0\n",
      "Unnamed: 17         9500\n",
      "Unnamed: 18         8271\n",
      "Unnamed: 19         9500\n",
      "Unnamed: 20         8271\n",
      "Unnamed: 21         8271\n",
      "Unnamed: 22         8271\n",
      "dtype: int64\n"
     ]
    }
   ],
   "source": [
    "print(retail_df.isnull().sum())"
   ]
  },
  {
   "cell_type": "code",
   "execution_count": 36,
   "id": "8b53e922",
   "metadata": {},
   "outputs": [
    {
     "name": "stdout",
     "output_type": "stream",
     "text": [
      "['ReviewRating', 'MarketingChannel', 'TimeOnSite', 'Unnamed: 17', 'Unnamed: 18', 'Unnamed: 19', 'Unnamed: 20', 'Unnamed: 21', 'Unnamed: 22']\n"
     ]
    }
   ],
   "source": [
    "# printing variables with missing values\n",
    "missing_col = [col for col in retail_df.columns if retail_df[col].isnull().sum()>0]\n",
    "print(missing_col)"
   ]
  },
  {
   "cell_type": "code",
   "execution_count": 37,
   "id": "77ec807c",
   "metadata": {},
   "outputs": [
    {
     "name": "stdout",
     "output_type": "stream",
     "text": [
      "['Unnamed: 17', 'Unnamed: 19']\n"
     ]
    }
   ],
   "source": [
    "# printing variables with no value\n",
    "no_value_col = [col for col in retail_df.columns if retail_df[col].isnull().sum()==retail_df.shape[0]]\n",
    "print(no_value_col)"
   ]
  },
  {
   "cell_type": "code",
   "execution_count": null,
   "id": "50e64c33",
   "metadata": {},
   "outputs": [],
   "source": []
  },
  {
   "cell_type": "code",
   "execution_count": 38,
   "id": "6570965f",
   "metadata": {},
   "outputs": [],
   "source": [
    "# remove the two columns with no values\n",
    "retail_df.drop(columns=no_value_col, inplace=True)"
   ]
  },
  {
   "cell_type": "markdown",
   "id": "6fc109d0",
   "metadata": {},
   "source": [
    "\n"
   ]
  },
  {
   "cell_type": "code",
   "execution_count": 39,
   "id": "047e4f8e",
   "metadata": {},
   "outputs": [
    {
     "name": "stdout",
     "output_type": "stream",
     "text": [
      "<class 'pandas.core.frame.DataFrame'>\n",
      "RangeIndex: 9500 entries, 0 to 9499\n",
      "Data columns (total 21 columns):\n",
      " #   Column            Non-Null Count  Dtype  \n",
      "---  ------            --------------  -----  \n",
      " 0   InvoiceNo         9500 non-null   object \n",
      " 1   CustomerID        9500 non-null   object \n",
      " 2   Date              9500 non-null   object \n",
      " 3   ProductCategory   9500 non-null   object \n",
      " 4   Quantity          9500 non-null   int64  \n",
      " 5   UnitPrice         9500 non-null   float64\n",
      " 6   DiscountApplied   9500 non-null   float64\n",
      " 7   ReviewRating      7835 non-null   float64\n",
      " 8   IsFirstPurchase   9500 non-null   int64  \n",
      " 9   MarketingChannel  9028 non-null   object \n",
      " 10  Country           9500 non-null   object \n",
      " 11  TimeOnSite        9025 non-null   float64\n",
      " 12  ShippingCost      9500 non-null   float64\n",
      " 13  ItemsInCart       9500 non-null   int64  \n",
      " 14  PreviousSpending  9500 non-null   float64\n",
      " 15  BrowsingSessions  9500 non-null   int64  \n",
      " 16  TotalAmount       9500 non-null   float64\n",
      " 17  Unnamed: 18       1229 non-null   float64\n",
      " 18  Unnamed: 20       1229 non-null   float64\n",
      " 19  Unnamed: 21       1229 non-null   float64\n",
      " 20  Unnamed: 22       1229 non-null   float64\n",
      "dtypes: float64(11), int64(4), object(6)\n",
      "memory usage: 1.5+ MB\n",
      "None\n"
     ]
    }
   ],
   "source": [
    "print(retail_df.info())"
   ]
  },
  {
   "cell_type": "code",
   "execution_count": 41,
   "id": "5751c251",
   "metadata": {},
   "outputs": [
    {
     "name": "stdout",
     "output_type": "stream",
     "text": [
      "{'ReviewRating': np.int64(1665), 'MarketingChannel': np.int64(472), 'TimeOnSite': np.int64(475), 'Unnamed: 18': np.int64(8271), 'Unnamed: 20': np.int64(8271), 'Unnamed: 21': np.int64(8271), 'Unnamed: 22': np.int64(8271)}\n"
     ]
    }
   ],
   "source": [
    "#list of variables with missing values with total number of missing values \n",
    "missing_col = {col: retail_df[col].isnull().sum() for col in retail_df.columns if retail_df[col].isnull().sum()>0}\n",
    "print(missing_col)"
   ]
  },
  {
   "cell_type": "markdown",
   "id": "6dbc193b",
   "metadata": {},
   "source": [
    "Considering the size of the data, four of which doesn't seem to have adequate sample size. I believe we can exclude it from the analysis. (unnamed 18, 20, 21, 22)"
   ]
  },
  {
   "cell_type": "code",
   "execution_count": 42,
   "id": "9acb8e47",
   "metadata": {},
   "outputs": [
    {
     "name": "stdout",
     "output_type": "stream",
     "text": [
      "<class 'pandas.core.frame.DataFrame'>\n",
      "RangeIndex: 9500 entries, 0 to 9499\n",
      "Data columns (total 17 columns):\n",
      " #   Column            Non-Null Count  Dtype  \n",
      "---  ------            --------------  -----  \n",
      " 0   InvoiceNo         9500 non-null   object \n",
      " 1   CustomerID        9500 non-null   object \n",
      " 2   Date              9500 non-null   object \n",
      " 3   ProductCategory   9500 non-null   object \n",
      " 4   Quantity          9500 non-null   int64  \n",
      " 5   UnitPrice         9500 non-null   float64\n",
      " 6   DiscountApplied   9500 non-null   float64\n",
      " 7   ReviewRating      7835 non-null   float64\n",
      " 8   IsFirstPurchase   9500 non-null   int64  \n",
      " 9   MarketingChannel  9028 non-null   object \n",
      " 10  Country           9500 non-null   object \n",
      " 11  TimeOnSite        9025 non-null   float64\n",
      " 12  ShippingCost      9500 non-null   float64\n",
      " 13  ItemsInCart       9500 non-null   int64  \n",
      " 14  PreviousSpending  9500 non-null   float64\n",
      " 15  BrowsingSessions  9500 non-null   int64  \n",
      " 16  TotalAmount       9500 non-null   float64\n",
      "dtypes: float64(7), int64(4), object(6)\n",
      "memory usage: 1.2+ MB\n",
      "None\n"
     ]
    }
   ],
   "source": [
    "# removme columns with too many missing values\n",
    "retail_df.drop(columns=['Unnamed: 18', 'Unnamed: 20', 'Unnamed: 21', 'Unnamed: 22'], inplace=True)\n",
    "print(retail_df.info())"
   ]
  },
  {
   "cell_type": "code",
   "execution_count": 44,
   "id": "97c28dff",
   "metadata": {},
   "outputs": [
    {
     "name": "stdout",
     "output_type": "stream",
     "text": [
      "{'ReviewRating': np.int64(1665), 'MarketingChannel': np.int64(472), 'TimeOnSite': np.int64(475)}\n"
     ]
    }
   ],
   "source": [
    "final_missing_col = {col: retail_df[col].isnull().sum() for col in retail_df.columns if retail_df[col].isnull().sum()>0}\n",
    "print(final_missing_col)"
   ]
  },
  {
   "cell_type": "code",
   "execution_count": 51,
   "id": "4d740ce4",
   "metadata": {},
   "outputs": [
    {
     "name": "stdout",
     "output_type": "stream",
     "text": [
      "count    7835.000000\n",
      "mean        3.481302\n",
      "std         1.062269\n",
      "min         1.000000\n",
      "25%         3.000000\n",
      "50%         4.000000\n",
      "75%         4.000000\n",
      "max         5.000000\n",
      "Name: ReviewRating, dtype: float64\n",
      "count      9028\n",
      "unique        5\n",
      "top       Email\n",
      "freq       2768\n",
      "Name: MarketingChannel, dtype: object\n",
      "count    9025.000000\n",
      "mean      299.567878\n",
      "std       118.555281\n",
      "min        30.000000\n",
      "25%       218.900000\n",
      "50%       296.800000\n",
      "75%       379.800000\n",
      "max       739.100000\n",
      "Name: TimeOnSite, dtype: float64\n"
     ]
    }
   ],
   "source": [
    "# print characteristic of the three columns with missing values\n",
    "print(retail_df['ReviewRating'].describe())\n",
    "print(retail_df['MarketingChannel'].describe()) \n",
    "print(retail_df['TimeOnSite'].describe())     "
   ]
  },
  {
   "cell_type": "code",
   "execution_count": 53,
   "id": "99b34420",
   "metadata": {},
   "outputs": [
    {
     "name": "stdout",
     "output_type": "stream",
     "text": [
      "count    7835.000000\n",
      "mean        3.481302\n",
      "std         1.062269\n",
      "min         1.000000\n",
      "25%         3.000000\n",
      "50%         4.000000\n",
      "75%         4.000000\n",
      "max         5.000000\n",
      "Name: ReviewRating, dtype: float64\n",
      "<class 'pandas.core.series.Series'>\n",
      "RangeIndex: 9500 entries, 0 to 9499\n",
      "Series name: ReviewRating\n",
      "Non-Null Count  Dtype  \n",
      "--------------  -----  \n",
      "7835 non-null   float64\n",
      "dtypes: float64(1)\n",
      "memory usage: 74.3 KB\n",
      "None\n",
      "Mode 0    4.0\n",
      "Name: ReviewRating, dtype: float64\n",
      "Median 4.0\n"
     ]
    }
   ],
   "source": [
    "print(retail_df['ReviewRating'].describe())\n",
    "print(retail_df['ReviewRating'].info())\n",
    "print(\"Mode\", retail_df['ReviewRating'].mode())\n",
    "print(\"Median\", retail_df['ReviewRating'].median())\n"
   ]
  },
  {
   "cell_type": "code",
   "execution_count": 55,
   "id": "6a75d822",
   "metadata": {},
   "outputs": [
    {
     "data": {
      "text/plain": [
       "0       4.0\n",
       "1       2.0\n",
       "2       5.0\n",
       "3       3.0\n",
       "4       4.0\n",
       "       ... \n",
       "9495    4.0\n",
       "9496    4.0\n",
       "9497    4.0\n",
       "9498    4.0\n",
       "9499    3.0\n",
       "Name: ReviewRating, Length: 9500, dtype: float64"
      ]
     },
     "execution_count": 55,
     "metadata": {},
     "output_type": "execute_result"
    }
   ],
   "source": [
    "# Both median and mode are 4.0. We will replace the missing values with 4.0 in Review rating. \n",
    "retail_df['ReviewRating'].fillna(4.0)"
   ]
  },
  {
   "cell_type": "code",
   "execution_count": 57,
   "id": "a32f3e61",
   "metadata": {},
   "outputs": [
    {
     "name": "stdout",
     "output_type": "stream",
     "text": [
      "0\n"
     ]
    }
   ],
   "source": [
    "print(retail_df[\"ReviewRating\"].isnull().sum())"
   ]
  },
  {
   "cell_type": "code",
   "execution_count": 58,
   "id": "ffc0c6c2",
   "metadata": {},
   "outputs": [
    {
     "name": "stdout",
     "output_type": "stream",
     "text": [
      "<class 'pandas.core.series.Series'>\n",
      "RangeIndex: 9500 entries, 0 to 9499\n",
      "Series name: ReviewRating\n",
      "Non-Null Count  Dtype  \n",
      "--------------  -----  \n",
      "9500 non-null   float64\n",
      "dtypes: float64(1)\n",
      "memory usage: 74.3 KB\n",
      "None\n"
     ]
    }
   ],
   "source": [
    "print(retail_df[\"ReviewRating\"].info())"
   ]
  },
  {
   "cell_type": "code",
   "execution_count": 60,
   "id": "798d8964",
   "metadata": {},
   "outputs": [
    {
     "name": "stdout",
     "output_type": "stream",
     "text": [
      "<class 'pandas.core.series.Series'>\n",
      "RangeIndex: 9500 entries, 0 to 9499\n",
      "Series name: MarketingChannel\n",
      "Non-Null Count  Dtype \n",
      "--------------  ----- \n",
      "9028 non-null   object\n",
      "dtypes: object(1)\n",
      "memory usage: 74.3+ KB\n",
      "None\n"
     ]
    }
   ],
   "source": [
    "print(retail_df[\"MarketingChannel\"].info())"
   ]
  },
  {
   "cell_type": "code",
   "execution_count": 61,
   "id": "f2b21f76",
   "metadata": {},
   "outputs": [
    {
     "name": "stdout",
     "output_type": "stream",
     "text": [
      "count      9028\n",
      "unique        5\n",
      "top       Email\n",
      "freq       2768\n",
      "Name: MarketingChannel, dtype: object\n"
     ]
    }
   ],
   "source": [
    "print(retail_df[\"MarketingChannel\"].describe())"
   ]
  },
  {
   "cell_type": "code",
   "execution_count": 62,
   "id": "3a492063",
   "metadata": {},
   "outputs": [
    {
     "name": "stdout",
     "output_type": "stream",
     "text": [
      "0    Email\n",
      "Name: MarketingChannel, dtype: object\n"
     ]
    }
   ],
   "source": [
    "print(retail_df[\"MarketingChannel\"].mode())"
   ]
  },
  {
   "cell_type": "code",
   "execution_count": 76,
   "id": "3731520b",
   "metadata": {},
   "outputs": [],
   "source": [
    "# replace missing value with mode \"Email\" in MarketingChannel\n",
    "retail_df[\"MarketingChannel\"]= retail_df[\"MarketingChannel\"].fillna(\"Email\")\n"
   ]
  },
  {
   "cell_type": "code",
   "execution_count": 64,
   "id": "f1ed6496",
   "metadata": {},
   "outputs": [
    {
     "name": "stdout",
     "output_type": "stream",
     "text": [
      "<class 'pandas.core.series.Series'>\n",
      "RangeIndex: 9500 entries, 0 to 9499\n",
      "Series name: TimeOnSite\n",
      "Non-Null Count  Dtype  \n",
      "--------------  -----  \n",
      "9025 non-null   float64\n",
      "dtypes: float64(1)\n",
      "memory usage: 74.3 KB\n",
      "None\n",
      "count    9025.000000\n",
      "mean      299.567878\n",
      "std       118.555281\n",
      "min        30.000000\n",
      "25%       218.900000\n",
      "50%       296.800000\n",
      "75%       379.800000\n",
      "max       739.100000\n",
      "Name: TimeOnSite, dtype: float64\n",
      "0    30.0\n",
      "Name: TimeOnSite, dtype: float64\n"
     ]
    }
   ],
   "source": [
    "print(retail_df[\"TimeOnSite\"].info())\n",
    "print(retail_df[\"TimeOnSite\"].describe())\n",
    "print(retail_df[\"TimeOnSite\"].mode())"
   ]
  },
  {
   "cell_type": "code",
   "execution_count": 71,
   "id": "ad489da5",
   "metadata": {},
   "outputs": [
    {
     "name": "stdout",
     "output_type": "stream",
     "text": [
      "296.8\n",
      "0    30.0\n",
      "Name: TimeOnSite, dtype: float64\n"
     ]
    }
   ],
   "source": [
    "# calculate median and mode of TimeOnSite\n",
    "print(retail_df[\"TimeOnSite\"].median())\n",
    "print(retail_df[\"TimeOnSite\"].mode())"
   ]
  },
  {
   "cell_type": "code",
   "execution_count": 74,
   "id": "33c4e42b",
   "metadata": {},
   "outputs": [],
   "source": [
    "# we will replace the missing value with mean of the column inplace of it\n",
    "retail_df[\"TimeOnSite\"]=  retail_df[\"TimeOnSite\"].fillna(retail_df[\"TimeOnSite\"].mean())"
   ]
  },
  {
   "cell_type": "code",
   "execution_count": 77,
   "id": "44a1bd72",
   "metadata": {},
   "outputs": [
    {
     "name": "stdout",
     "output_type": "stream",
     "text": [
      "InvoiceNo           0\n",
      "CustomerID          0\n",
      "Date                0\n",
      "ProductCategory     0\n",
      "Quantity            0\n",
      "UnitPrice           0\n",
      "DiscountApplied     0\n",
      "ReviewRating        0\n",
      "IsFirstPurchase     0\n",
      "MarketingChannel    0\n",
      "Country             0\n",
      "TimeOnSite          0\n",
      "ShippingCost        0\n",
      "ItemsInCart         0\n",
      "PreviousSpending    0\n",
      "BrowsingSessions    0\n",
      "TotalAmount         0\n",
      "dtype: int64\n"
     ]
    }
   ],
   "source": [
    "#check if there is any missing value remaining \n",
    "print(retail_df.isnull().sum())"
   ]
  }
 ],
 "metadata": {
  "kernelspec": {
   "display_name": "base",
   "language": "python",
   "name": "python3"
  },
  "language_info": {
   "codemirror_mode": {
    "name": "ipython",
    "version": 3
   },
   "file_extension": ".py",
   "mimetype": "text/x-python",
   "name": "python",
   "nbconvert_exporter": "python",
   "pygments_lexer": "ipython3",
   "version": "3.13.5"
  }
 },
 "nbformat": 4,
 "nbformat_minor": 5
}
