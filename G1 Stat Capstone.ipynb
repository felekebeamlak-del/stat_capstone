{
 "cells": [
  {
   "cell_type": "code",
   "execution_count": 1,
   "id": "ae2fbf3c",
   "metadata": {},
   "outputs": [],
   "source": [
    "# G1 Capstone Project_Stat"
   ]
  },
  {
   "cell_type": "code",
   "execution_count": 2,
   "id": "37c8abc3",
   "metadata": {},
   "outputs": [],
   "source": [
    "import pandas as pd\n",
    "import numpy as np\n",
    "import matplotlib.pyplot as plt\n",
    "import seaborn as sns"
   ]
  },
  {
   "cell_type": "code",
   "execution_count": 3,
   "id": "fbcef2d3",
   "metadata": {},
   "outputs": [
    {
     "name": "stdout",
     "output_type": "stream",
     "text": [
      "   InvoiceNo CustomerID      Date ProductCategory  Quantity  UnitPrice  \\\n",
      "0  INV105646   CUST1810  1/1/2023            Home         7      67.88   \n",
      "1  INV105099   CUST1530  1/1/2023            Toys         6      24.22   \n",
      "2  INV102818   CUST1701  1/1/2023     Electronics         6     158.78   \n",
      "3  INV107351   CUST1323  1/1/2023     Electronics         5     102.23   \n",
      "4  INV108415   CUST1406  1/1/2023     Electronics         8      62.32   \n",
      "\n",
      "   DiscountApplied  ReviewRating  IsFirstPurchase MarketingChannel  ...  \\\n",
      "0             44.6           4.0                0          Organic  ...   \n",
      "1              0.0           2.0                1           Social  ...   \n",
      "2             25.9           5.0                1            Email  ...   \n",
      "3             39.0           3.0                1           Social  ...   \n",
      "4             26.7           4.0                0            Email  ...   \n",
      "\n",
      "  ItemsInCart  PreviousSpending  BrowsingSessions  TotalAmount  Unnamed: 17  \\\n",
      "0           7            186.55                 3       270.08          NaN   \n",
      "1           8              0.00                 3       155.16          NaN   \n",
      "2           6              0.00                 3       719.29          NaN   \n",
      "3           6              0.00                 5       324.19          NaN   \n",
      "4           8            371.94                 4       387.06          NaN   \n",
      "\n",
      "   Unnamed: 18  Unnamed: 19  Unnamed: 20  Unnamed: 21  Unnamed: 22  \n",
      "0    218.92136          NaN       475.16    211.92136       270.08  \n",
      "1      8.00000          NaN       145.32      0.00000       155.16  \n",
      "2    252.74412          NaN       952.68    246.74412       719.29  \n",
      "3    205.34850          NaN       511.15    199.34850       324.19  \n",
      "4    141.11552          NaN       498.56    133.11552       387.06  \n",
      "\n",
      "[5 rows x 23 columns]\n"
     ]
    }
   ],
   "source": [
    "retail_df = pd.read_csv('D:\\Data Science bootcamp\\Git\\stat_capstone\\synthetic_retail_data.csv')\n",
    "print(retail_df.head())"
   ]
  },
  {
   "cell_type": "code",
   "execution_count": 4,
   "id": "649e1e37",
   "metadata": {},
   "outputs": [
    {
     "name": "stdout",
     "output_type": "stream",
     "text": [
      "<class 'pandas.core.frame.DataFrame'>\n",
      "RangeIndex: 9500 entries, 0 to 9499\n",
      "Data columns (total 23 columns):\n",
      " #   Column            Non-Null Count  Dtype  \n",
      "---  ------            --------------  -----  \n",
      " 0   InvoiceNo         9500 non-null   object \n",
      " 1   CustomerID        9500 non-null   object \n",
      " 2   Date              9500 non-null   object \n",
      " 3   ProductCategory   9500 non-null   object \n",
      " 4   Quantity          9500 non-null   int64  \n",
      " 5   UnitPrice         9500 non-null   float64\n",
      " 6   DiscountApplied   9500 non-null   float64\n",
      " 7   ReviewRating      7835 non-null   float64\n",
      " 8   IsFirstPurchase   9500 non-null   int64  \n",
      " 9   MarketingChannel  9028 non-null   object \n",
      " 10  Country           9500 non-null   object \n",
      " 11  TimeOnSite        9025 non-null   float64\n",
      " 12  ShippingCost      9500 non-null   float64\n",
      " 13  ItemsInCart       9500 non-null   int64  \n",
      " 14  PreviousSpending  9500 non-null   float64\n",
      " 15  BrowsingSessions  9500 non-null   int64  \n",
      " 16  TotalAmount       9500 non-null   float64\n",
      " 17  Unnamed: 17       0 non-null      float64\n",
      " 18  Unnamed: 18       1229 non-null   float64\n",
      " 19  Unnamed: 19       0 non-null      float64\n",
      " 20  Unnamed: 20       1229 non-null   float64\n",
      " 21  Unnamed: 21       1229 non-null   float64\n",
      " 22  Unnamed: 22       1229 non-null   float64\n",
      "dtypes: float64(13), int64(4), object(6)\n",
      "memory usage: 1.7+ MB\n",
      "None\n",
      "                   count        mean          std    min       25%        50%  \\\n",
      "Quantity          9500.0    9.166105     5.267773   1.00    6.0000    9.00000   \n",
      "UnitPrice         9500.0   58.459586    42.140771  10.06   31.3500   43.67500   \n",
      "DiscountApplied   9500.0   18.181400    18.531475   0.00    0.0000   13.60000   \n",
      "ReviewRating      7835.0    3.481302     1.062269   1.00    3.0000    4.00000   \n",
      "IsFirstPurchase   9500.0    0.302842     0.459512   0.00    0.0000    0.00000   \n",
      "TimeOnSite        9025.0  299.567878   118.555281  30.00  218.9000  296.80000   \n",
      "ShippingCost      9500.0   10.041306     4.875580   0.00    6.6300    9.96000   \n",
      "ItemsInCart       9500.0    9.671474     3.528830   1.00    7.0000    9.00000   \n",
      "PreviousSpending  9500.0  209.090296   161.318720   0.00    0.0000  241.93000   \n",
      "BrowsingSessions  9500.0    3.064737     1.440587   1.00    2.0000    3.00000   \n",
      "TotalAmount       9500.0  484.463016   940.646765  20.26  199.9175  309.13500   \n",
      "Unnamed: 17          0.0         NaN          NaN    NaN       NaN        NaN   \n",
      "Unnamed: 18       1229.0  118.408726   324.272927   1.00    9.0000   39.83435   \n",
      "Unnamed: 19          0.0         NaN          NaN    NaN       NaN        NaN   \n",
      "Unnamed: 20       1229.0  514.096843  1025.410356  17.29  201.3600  322.84000   \n",
      "Unnamed: 21       1229.0  109.913201   323.909985   0.00    0.0000   32.54940   \n",
      "Unnamed: 22       1229.0  414.071367   851.946687  20.26  170.3800  272.66000   \n",
      "\n",
      "                        75%         max  \n",
      "Quantity           11.00000     80.0000  \n",
      "UnitPrice          73.66000    672.4000  \n",
      "DiscountApplied    34.80000     55.0000  \n",
      "ReviewRating        4.00000      5.0000  \n",
      "IsFirstPurchase     1.00000      1.0000  \n",
      "TimeOnSite        379.80000    739.1000  \n",
      "ShippingCost       13.31250     29.3000  \n",
      "ItemsInCart        12.00000     25.0000  \n",
      "PreviousSpending  336.72250    632.0200  \n",
      "BrowsingSessions    4.00000      8.0000  \n",
      "TotalAmount       518.38500  34231.0400  \n",
      "Unnamed: 17             NaN         NaN  \n",
      "Unnamed: 18       143.59062   8560.1224  \n",
      "Unnamed: 19             NaN         NaN  \n",
      "Unnamed: 20       543.72000  18916.2000  \n",
      "Unnamed: 21       135.54695   8550.1224  \n",
      "Unnamed: 22       430.98000  17907.4200  \n",
      "InvoiceNo              0\n",
      "CustomerID             0\n",
      "Date                   0\n",
      "ProductCategory        0\n",
      "Quantity               0\n",
      "UnitPrice              0\n",
      "DiscountApplied        0\n",
      "ReviewRating        1665\n",
      "IsFirstPurchase        0\n",
      "MarketingChannel     472\n",
      "Country                0\n",
      "TimeOnSite           475\n",
      "ShippingCost           0\n",
      "ItemsInCart            0\n",
      "PreviousSpending       0\n",
      "BrowsingSessions       0\n",
      "TotalAmount            0\n",
      "Unnamed: 17         9500\n",
      "Unnamed: 18         8271\n",
      "Unnamed: 19         9500\n",
      "Unnamed: 20         8271\n",
      "Unnamed: 21         8271\n",
      "Unnamed: 22         8271\n",
      "dtype: int64\n",
      "0\n"
     ]
    }
   ],
   "source": [
    "print(retail_df.info())\n",
    "print(retail_df.describe().T)\n",
    "print(retail_df.isnull().sum())\n",
    "print(retail_df.duplicated().sum())\n"
   ]
  }
 ],
 "metadata": {
  "kernelspec": {
   "display_name": "base",
   "language": "python",
   "name": "python3"
  },
  "language_info": {
   "codemirror_mode": {
    "name": "ipython",
    "version": 3
   },
   "file_extension": ".py",
   "mimetype": "text/x-python",
   "name": "python",
   "nbconvert_exporter": "python",
   "pygments_lexer": "ipython3",
   "version": "3.13.5"
  }
 },
 "nbformat": 4,
 "nbformat_minor": 5
}
